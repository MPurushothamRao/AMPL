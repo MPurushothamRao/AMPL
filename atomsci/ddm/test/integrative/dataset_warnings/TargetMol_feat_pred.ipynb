{
 "cells": [
  {
   "cell_type": "markdown",
   "metadata": {},
   "source": [
    "# Use logBB, PARP, BCRP and MDR1 models to predict on Otava library"
   ]
  },
  {
   "cell_type": "code",
   "execution_count": 1,
   "metadata": {},
   "outputs": [],
   "source": [
    "%load_ext autoreload\n",
    "%autoreload 2"
   ]
  },
  {
   "cell_type": "code",
   "execution_count": 2,
   "metadata": {},
   "outputs": [
    {
     "name": "stderr",
     "output_type": "stream",
     "text": [
      "2021-12-23 08:44:18,454 Model tracker client not supported in your environment; will save models in filesystem only.\n"
     ]
    }
   ],
   "source": [
    "import matplotlib.pyplot as plt\n",
    "import seaborn as sns\n",
    "import numpy as np\n",
    "import os.path\n",
    "sns.set_context(\"poster\")\n",
    "sns.set_style(\"whitegrid\")\n",
    "sns.set_palette(\"Set2\")\n",
    "pal = sns.color_palette()\n",
    "\n",
    "import pandas as pd\n",
    "import sys\n",
    "import umap\n",
    "\n",
    "from rdkit import Chem\n",
    "from atomsci.ddm.pipeline import model_pipeline as mp\n",
    "from atomsci.ddm.pipeline import parameter_parser as parse\n",
    "import atomsci.ddm.utils.struct_utils as struct_utils\n",
    "import atomsci.ddm.pipeline.model_tracker as mt\n",
    "import atomsci.ddm.pipeline.chem_diversity as cd\n",
    "import atomsci.ddm.pipeline.predict_from_model as pfm\n",
    "import atomsci.ddm.pipeline.featurization as feat\n",
    "\n",
    "#import warnings\n",
    "#warnings.filterwarnings(action='once')\n",
    "\n",
    "from sklearn.metrics import roc_curve, auc, roc_auc_score, r2_score, precision_recall_curve, average_precision_score, confusion_matrix\n",
    "\n",
    "pd.set_option('display.max_rows', 20)\n",
    "pd.set_option('display.max_columns', 90)\n",
    "\n",
    "%config Completer.use_jedi = False"
   ]
  },
  {
   "cell_type": "markdown",
   "metadata": {},
   "source": [
    "# load data"
   ]
  },
  {
   "cell_type": "code",
   "execution_count": 3,
   "metadata": {},
   "outputs": [
    {
     "data": {
      "text/html": [
       "<div>\n",
       "<style scoped>\n",
       "    .dataframe tbody tr th:only-of-type {\n",
       "        vertical-align: middle;\n",
       "    }\n",
       "\n",
       "    .dataframe tbody tr th {\n",
       "        vertical-align: top;\n",
       "    }\n",
       "\n",
       "    .dataframe thead th {\n",
       "        text-align: right;\n",
       "    }\n",
       "</style>\n",
       "<table border=\"1\" class=\"dataframe\">\n",
       "  <thead>\n",
       "    <tr style=\"text-align: right;\">\n",
       "      <th></th>\n",
       "      <th>Index</th>\n",
       "      <th>Plate</th>\n",
       "      <th>Row</th>\n",
       "      <th>Col</th>\n",
       "      <th>Volume（microliter）</th>\n",
       "      <th>Concentration（mM）</th>\n",
       "      <th>CAS</th>\n",
       "      <th>compound_id</th>\n",
       "      <th>Name</th>\n",
       "      <th>Synonyms</th>\n",
       "      <th>SMILES</th>\n",
       "      <th>Formula</th>\n",
       "      <th>MolWt</th>\n",
       "      <th>Pathway</th>\n",
       "      <th>Target</th>\n",
       "      <th>Receptor</th>\n",
       "      <th>Bioactivity</th>\n",
       "      <th>Reference</th>\n",
       "      <th>base_rdkit_smiles</th>\n",
       "      <th>smilength</th>\n",
       "    </tr>\n",
       "  </thead>\n",
       "  <tbody>\n",
       "    <tr>\n",
       "      <th>0</th>\n",
       "      <td>1</td>\n",
       "      <td>M29851</td>\n",
       "      <td>A</td>\n",
       "      <td>3</td>\n",
       "      <td>200</td>\n",
       "      <td>10</td>\n",
       "      <td>13103-34-9</td>\n",
       "      <td>T3137</td>\n",
       "      <td>Parenabol</td>\n",
       "      <td>Ba 29038;Boldenone Undecylenate;Vebonol</td>\n",
       "      <td>C=CCCCCCCCCC(=O)O[C@H]1CC[C@@H]2[C@]1(C)CC[C@H...</td>\n",
       "      <td>C30H44O3</td>\n",
       "      <td>452.67</td>\n",
       "      <td>Endocrinology/Hormones</td>\n",
       "      <td>Androgen Receptor agonist</td>\n",
       "      <td>Androgen Receptor</td>\n",
       "      <td>Boldenone undecylenate is a synthetic steroid.</td>\n",
       "      <td>Oda SS, El-Ashmawy IM. Int J Exp Pathol. 2012 ...</td>\n",
       "      <td>C=CCCCCCCCCC(=O)O[C@H]1CC[C@H]2[C@@H]3CCC4=CC(...</td>\n",
       "      <td>75</td>\n",
       "    </tr>\n",
       "    <tr>\n",
       "      <th>1</th>\n",
       "      <td>2</td>\n",
       "      <td>M29851</td>\n",
       "      <td>A</td>\n",
       "      <td>4</td>\n",
       "      <td>200</td>\n",
       "      <td>10</td>\n",
       "      <td>76-49-3</td>\n",
       "      <td>T1246</td>\n",
       "      <td>Bornyl acetate</td>\n",
       "      <td>Isobornyl acetate;Bornyl acetic ether;2-Campha...</td>\n",
       "      <td>CC(=O)O[C@@H]1C[C@@H]2CC[C@@]1(C)C2(C)C.CC(=O)...</td>\n",
       "      <td>C12H20O2</td>\n",
       "      <td>196.29</td>\n",
       "      <td>Immunology/Inflammation</td>\n",
       "      <td>IL Receptor inhibitor</td>\n",
       "      <td>IL receptor</td>\n",
       "      <td>Bornyl acetate has an anti-inflammatory effect...</td>\n",
       "      <td>Yang H, et al. IUBMB Life. 2014 Dec;66(12):854-9.</td>\n",
       "      <td>CC(=O)O[C@@H]1C[C@@H]2CC[C@@]1(C)C2(C)C</td>\n",
       "      <td>39</td>\n",
       "    </tr>\n",
       "  </tbody>\n",
       "</table>\n",
       "</div>"
      ],
      "text/plain": [
       "   Index   Plate Row  Col  Volume（microliter）  Concentration（mM）         CAS  \\\n",
       "0      1  M29851   A    3                 200                 10  13103-34-9   \n",
       "1      2  M29851   A    4                 200                 10     76-49-3   \n",
       "\n",
       "  compound_id            Name  \\\n",
       "0       T3137       Parenabol   \n",
       "1       T1246  Bornyl acetate   \n",
       "\n",
       "                                            Synonyms  \\\n",
       "0            Ba 29038;Boldenone Undecylenate;Vebonol   \n",
       "1  Isobornyl acetate;Bornyl acetic ether;2-Campha...   \n",
       "\n",
       "                                              SMILES   Formula   MolWt  \\\n",
       "0  C=CCCCCCCCCC(=O)O[C@H]1CC[C@@H]2[C@]1(C)CC[C@H...  C30H44O3  452.67   \n",
       "1  CC(=O)O[C@@H]1C[C@@H]2CC[C@@]1(C)C2(C)C.CC(=O)...  C12H20O2  196.29   \n",
       "\n",
       "                   Pathway                     Target           Receptor  \\\n",
       "0   Endocrinology/Hormones  Androgen Receptor agonist  Androgen Receptor   \n",
       "1  Immunology/Inflammation      IL Receptor inhibitor        IL receptor   \n",
       "\n",
       "                                         Bioactivity  \\\n",
       "0     Boldenone undecylenate is a synthetic steroid.   \n",
       "1  Bornyl acetate has an anti-inflammatory effect...   \n",
       "\n",
       "                                           Reference  \\\n",
       "0  Oda SS, El-Ashmawy IM. Int J Exp Pathol. 2012 ...   \n",
       "1  Yang H, et al. IUBMB Life. 2014 Dec;66(12):854-9.   \n",
       "\n",
       "                                   base_rdkit_smiles  smilength  \n",
       "0  C=CCCCCCCCCC(=O)O[C@H]1CC[C@H]2[C@@H]3CCC4=CC(...         75  \n",
       "1            CC(=O)O[C@@H]1C[C@@H]2CC[C@@]1(C)C2(C)C         39  "
      ]
     },
     "execution_count": 3,
     "metadata": {},
     "output_type": "execute_result"
    }
   ],
   "source": [
    "df=pd.read_csv(\"/usr/workspace/atom/PARP_compounds/Model_Predictions/TargetMol/targetmol.csv\")\n",
    "df.head(2)"
   ]
  },
  {
   "cell_type": "markdown",
   "metadata": {},
   "source": [
    "## Predict"
   ]
  },
  {
   "cell_type": "code",
   "execution_count": 4,
   "metadata": {},
   "outputs": [],
   "source": [
    "bb_training_data_path = '/usr/workspace/atom/PARP_compounds/Datasets_and_Models/BBB/Final_Regresion_logBB.csv'\n",
    "ki_training_data_path = '/usr/workspace/atom/PARP_compounds/Datasets_and_Models/PARP1/the_final_ki_data.csv'\n",
    "xc_training_data_path = '/usr/workspace/atom/PARP_compounds/Datasets_and_Models/PARP1/the_final_xc50_data.csv'\n",
    "pi_training_data_path = '/usr/workspace/atom/PARP_compounds/Datasets_and_Models/PGP/reg_in_cur_uni.csv'\n",
    "bi_training_data_path = '/usr/workspace/atom/PARP_compounds/Datasets_and_Models/BCRP/intern_models_bad_data/BCRP_cla_in_final.csv'\n",
    "pt_training_data_path = '/usr/workspace/atom/PARP_compounds/Datasets_and_Models/PGP/reg_tr_cur_uni2.csv'\n",
    "bt_training_data_path = '/usr/workspace/atom/PARP_compounds/Datasets_and_Models/BCRP/intern_models_bad_data/BCRP_cla_tr_final.csv'\n",
    "p2_training_data_path = '/usr/workspace/atom/PARP_compounds/Datasets_and_Models/PARP2/PARP2_cur.csv'\n",
    "\n",
    "bb_path = \"/usr/workspace/atom/PARP_compounds/Datasets_and_Models/BBB/Final_Regresion_logBB_model_69f30592-6ae7-44b3-a2a6-e84cf53a4d15.tar.gz\"\n",
    "ki_path = \"/usr/workspace/atom/PARP_compounds/Datasets_and_Models/PARP1/the_final_ki_data_model_4545b415-b838-4c17-b183-3ba7d1b57648.tar.gz\"\n",
    "xc_path = \"/usr/workspace/atom/PARP_compounds/Datasets_and_Models/PARP1/the_final_xc50_data_model_396cdb1d-1c54-4014-b84f-07ca5ed7f506.tar.gz\"\n",
    "pi_path = \"/usr/workspace/atom/PARP_compounds/Datasets_and_Models/PGP/reg_in_cur_uni_model_1b15c0ba-2f9c-4697-a6c2-40391c096000.tar.gz\"\n",
    "bi_path = \"/usr/workspace/atom/PARP_compounds/Datasets_and_Models/BCRP/intern_models_bad_data/BCRP_cla_in_final_model_d5a7d5ba-555e-42bd-ac19-87456397a791.tar.gz\"\n",
    "pt_path = \"/usr/workspace/atom/PARP_compounds/Datasets_and_Models/PGP/reg_tr_cur_uni2_model_4bcd3b45-e006-48a5-9cd2-da7098551e65.tar.gz\"\n",
    "bt_path = \"/usr/workspace/atom/PARP_compounds/Datasets_and_Models/BCRP/intern_models_bad_data/BCRP_cla_tr_final_model_d62b2e1a-bdc6-4de2-8e16-c7df2fa6e813.tar.gz\"\n",
    "p2_path = \"/usr/workspace/atom/PARP_compounds/Datasets_and_Models/PARP2/cb99da89-a9c8-4db4-8f4a-e6688862a34e.tar.gz\""
   ]
  },
  {
   "cell_type": "code",
   "execution_count": 5,
   "metadata": {},
   "outputs": [],
   "source": [
    "models=[\n",
    "#     (bb_path, 'logBB',       'rdkit_raw',        bb_training_data_path), # works # NN regression\n",
    "#     (ki_path, 'PARP1_Ki',    'ecfp',             ki_training_data_path), # works # RF regression\n",
    "#     (xc_path, 'PARP1_XC50',   'ecfp',            xc_training_data_path), # works # XG regression\n",
    "#     (p2_path, 'PARP2_inhib', 'rdkit_raw',        p2_training_data_path), # works # NN classification\n",
    "#     (bi_path, 'BCRP_inhib',  'rdkit_raw',        bi_training_data_path), # works # NN classification\n",
    "#     (pt_path, 'PGP_txpt',    'mordred_filtered', pt_training_data_path), # works # RF regression\n",
    "#     (bt_path, 'BCRP_txpt',   'mordred_filtered', bt_training_data_path), # works # NN classification\n",
    "    (pi_path, 'PGP_inhib',   'rdkit_raw',        pi_training_data_path), # doesn't work # RF regression\n",
    "]"
   ]
  },
  {
   "cell_type": "code",
   "execution_count": 9,
   "metadata": {},
   "outputs": [
    {
     "name": "stdout",
     "output_type": "stream",
     "text": [
      "\n",
      " PGP_inhib \n",
      "\n"
     ]
    },
    {
     "name": "stderr",
     "output_type": "stream",
     "text": [
      "2021-12-23 08:58:11,567 ['ampl_version', 'time_generated', 'time_built', 'dataset_metadata', 'training_metrics'] are not part of the accepted list of parameters and will be ignored\n",
      "2021-12-23 08:58:11,573 Reloading transformers from model tarball /tmp/tmp0xsp24te/transformers.pkl\n",
      "/g/g19/he6/ws/AMPL_PR_env/lib/python3.7/site-packages/sklearn/base.py:315: UserWarning: Trying to unpickle estimator DecisionTreeRegressor from version 0.22.1 when using version 0.24.2. This might lead to breaking code or invalid results. Use at your own risk.\n",
      "  UserWarning)\n",
      "/g/g19/he6/ws/AMPL_PR_env/lib/python3.7/site-packages/sklearn/base.py:315: UserWarning: Trying to unpickle estimator RandomForestRegressor from version 0.22.1 when using version 0.24.2. This might lead to breaking code or invalid results. Use at your own risk.\n",
      "  UserWarning)\n",
      "2021-12-23 08:58:11,738 Converting SMILES to RDKit Mols\n"
     ]
    },
    {
     "name": "stdout",
     "output_type": "stream",
     "text": [
      "num_model_tasks is deprecated and its value is ignored.\n",
      "Featurization = DescriptorFeaturization with rdkit_raw descriptors\n"
     ]
    },
    {
     "name": "stderr",
     "output_type": "stream",
     "text": [
      "2021-12-23 08:58:13,259 CURATION WARNING: There are 10 molecules in your dataset with Mol Wt >2000. These may cause model training or predictions to fail. Consider removing them during data curation before training or predicting on this dataset.\n",
      "2021-12-23 08:58:13,439 Formatting already featurized data...\n",
      "2021-12-23 08:58:13,460 Done\n",
      "2021-12-23 08:58:13,475 Transforming response data\n",
      "2021-12-23 08:58:13,495 Transforming feature data\n",
      "/usr/WS1/he6/code/ATOM/AMPL_PR/atomsci/ddm/pipeline/transformations.py:231: RuntimeWarning: invalid value encountered in true_divide\n",
      "  X = np.nan_to_num((X - self.X_means) * X_weight / self.X_stds)\n",
      "2021-12-23 08:58:13,531 Evaluating current model\n"
     ]
    },
    {
     "name": "stdout",
     "output_type": "stream",
     "text": [
      "number of features: 200\n"
     ]
    },
    {
     "ename": "ValueError",
     "evalue": "Input contains NaN, infinity or a value too large for dtype('float32').",
     "output_type": "error",
     "traceback": [
      "\u001b[0;31m---------------------------------------------------------------------------\u001b[0m",
      "\u001b[0;31mAttributeError\u001b[0m                            Traceback (most recent call last)",
      "\u001b[0;32m~/ws/AMPL_PR_env/lib/python3.7/site-packages/deepchem/models/sklearn_models/sklearn_model.py\u001b[0m in \u001b[0;36mpredict_on_batch\u001b[0;34m(self, X)\u001b[0m\n\u001b[1;32m    117\u001b[0m     \u001b[0;32mtry\u001b[0m\u001b[0;34m:\u001b[0m\u001b[0;34m\u001b[0m\u001b[0;34m\u001b[0m\u001b[0m\n\u001b[0;32m--> 118\u001b[0;31m       \u001b[0;32mreturn\u001b[0m \u001b[0mself\u001b[0m\u001b[0;34m.\u001b[0m\u001b[0mmodel\u001b[0m\u001b[0;34m.\u001b[0m\u001b[0mpredict_proba\u001b[0m\u001b[0;34m(\u001b[0m\u001b[0mX\u001b[0m\u001b[0;34m)\u001b[0m\u001b[0;34m\u001b[0m\u001b[0;34m\u001b[0m\u001b[0m\n\u001b[0m\u001b[1;32m    119\u001b[0m     \u001b[0;32mexcept\u001b[0m \u001b[0mAttributeError\u001b[0m\u001b[0;34m:\u001b[0m\u001b[0;34m\u001b[0m\u001b[0;34m\u001b[0m\u001b[0m\n",
      "\u001b[0;31mAttributeError\u001b[0m: 'RandomForestRegressor' object has no attribute 'predict_proba'",
      "\nDuring handling of the above exception, another exception occurred:\n",
      "\u001b[0;31mValueError\u001b[0m                                Traceback (most recent call last)",
      "\u001b[0;32m<ipython-input-9-388d93506566>\u001b[0m in \u001b[0;36m<module>\u001b[0;34m\u001b[0m\n\u001b[1;32m     35\u001b[0m                                           \u001b[0mAD_method\u001b[0m\u001b[0;34m=\u001b[0m\u001b[0mAD_method\u001b[0m\u001b[0;34m,\u001b[0m \u001b[0mexternal_training_data\u001b[0m\u001b[0;34m=\u001b[0m\u001b[0mextdata\u001b[0m\u001b[0;34m,\u001b[0m\u001b[0;34m\u001b[0m\u001b[0;34m\u001b[0m\u001b[0m\n\u001b[1;32m     36\u001b[0m                                           \u001b[0;31m# turn verbose on\u001b[0m\u001b[0;34m\u001b[0m\u001b[0;34m\u001b[0m\u001b[0;34m\u001b[0m\u001b[0m\n\u001b[0;32m---> 37\u001b[0;31m                                           \u001b[0mverbose\u001b[0m\u001b[0;34m=\u001b[0m\u001b[0;32mTrue\u001b[0m\u001b[0;34m\u001b[0m\u001b[0;34m\u001b[0m\u001b[0m\n\u001b[0m\u001b[1;32m     38\u001b[0m                                 )\n\u001b[1;32m     39\u001b[0m \u001b[0;34m\u001b[0m\u001b[0m\n",
      "\u001b[0;32m/usr/WS1/he6/code/ATOM/AMPL_PR/atomsci/ddm/pipeline/predict_from_model.py\u001b[0m in \u001b[0;36mpredict_from_model_file\u001b[0;34m(model_path, input_df, id_col, smiles_col, response_col, conc_col, is_featurized, dont_standardize, AD_method, k, dist_metric, external_training_data, **kwargs)\u001b[0m\n\u001b[1;32m    115\u001b[0m         \u001b[0mpipe\u001b[0m\u001b[0;34m.\u001b[0m\u001b[0mparams\u001b[0m\u001b[0;34m.\u001b[0m\u001b[0mdataset_key\u001b[0m\u001b[0;34m=\u001b[0m\u001b[0mexternal_training_data\u001b[0m\u001b[0;34m\u001b[0m\u001b[0;34m\u001b[0m\u001b[0m\n\u001b[1;32m    116\u001b[0m     pred_df = pipe.predict_full_dataset(input_df, contains_responses=has_responses, is_featurized=is_featurized,\n\u001b[0;32m--> 117\u001b[0;31m                                         dset_params=pred_params, AD_method=AD_method, k=k, dist_metric=dist_metric)\n\u001b[0m\u001b[1;32m    118\u001b[0m     \u001b[0;32mreturn\u001b[0m \u001b[0mpred_df\u001b[0m\u001b[0;34m\u001b[0m\u001b[0;34m\u001b[0m\u001b[0m\n\u001b[1;32m    119\u001b[0m \u001b[0;34m\u001b[0m\u001b[0m\n",
      "\u001b[0;32m/usr/WS1/he6/code/ATOM/AMPL_PR/atomsci/ddm/pipeline/model_pipeline.py\u001b[0m in \u001b[0;36mpredict_full_dataset\u001b[0;34m(self, dset_df, is_featurized, contains_responses, dset_params, AD_method, k, dist_metric)\u001b[0m\n\u001b[1;32m    837\u001b[0m \u001b[0;34m\u001b[0m\u001b[0m\n\u001b[1;32m    838\u001b[0m         \u001b[0;31m# Get the predictions and standard deviations, if calculated, as numpy arrays\u001b[0m\u001b[0;34m\u001b[0m\u001b[0;34m\u001b[0m\u001b[0;34m\u001b[0m\u001b[0m\n\u001b[0;32m--> 839\u001b[0;31m         \u001b[0mpreds\u001b[0m\u001b[0;34m,\u001b[0m \u001b[0mstds\u001b[0m \u001b[0;34m=\u001b[0m \u001b[0mself\u001b[0m\u001b[0;34m.\u001b[0m\u001b[0mmodel_wrapper\u001b[0m\u001b[0;34m.\u001b[0m\u001b[0mgenerate_predictions\u001b[0m\u001b[0;34m(\u001b[0m\u001b[0mself\u001b[0m\u001b[0;34m.\u001b[0m\u001b[0mdata\u001b[0m\u001b[0;34m.\u001b[0m\u001b[0mdataset\u001b[0m\u001b[0;34m)\u001b[0m\u001b[0;34m\u001b[0m\u001b[0;34m\u001b[0m\u001b[0m\n\u001b[0m\u001b[1;32m    840\u001b[0m         result_df = pd.DataFrame({self.params.id_col: self.data.attr.index.values,\n\u001b[1;32m    841\u001b[0m                                   self.params.smiles_col: self.data.attr[self.params.smiles_col].values})\n",
      "\u001b[0;32m/usr/WS1/he6/code/ATOM/AMPL_PR/atomsci/ddm/pipeline/model_wrapper.py\u001b[0m in \u001b[0;36mgenerate_predictions\u001b[0;34m(self, dataset)\u001b[0m\n\u001b[1;32m   2139\u001b[0m         \u001b[0mself\u001b[0m\u001b[0;34m.\u001b[0m\u001b[0mlog\u001b[0m\u001b[0;34m.\u001b[0m\u001b[0minfo\u001b[0m\u001b[0;34m(\u001b[0m\u001b[0;34m\"Evaluating current model\"\u001b[0m\u001b[0;34m)\u001b[0m\u001b[0;34m\u001b[0m\u001b[0;34m\u001b[0m\u001b[0m\n\u001b[1;32m   2140\u001b[0m \u001b[0;34m\u001b[0m\u001b[0m\n\u001b[0;32m-> 2141\u001b[0;31m         \u001b[0mpred\u001b[0m \u001b[0;34m=\u001b[0m \u001b[0mself\u001b[0m\u001b[0;34m.\u001b[0m\u001b[0mmodel\u001b[0m\u001b[0;34m.\u001b[0m\u001b[0mpredict\u001b[0m\u001b[0;34m(\u001b[0m\u001b[0mdataset\u001b[0m\u001b[0;34m,\u001b[0m \u001b[0mself\u001b[0m\u001b[0;34m.\u001b[0m\u001b[0mtransformers\u001b[0m\u001b[0;34m)\u001b[0m\u001b[0;34m\u001b[0m\u001b[0;34m\u001b[0m\u001b[0m\n\u001b[0m\u001b[1;32m   2142\u001b[0m         \u001b[0mncmpds\u001b[0m \u001b[0;34m=\u001b[0m \u001b[0mpred\u001b[0m\u001b[0;34m.\u001b[0m\u001b[0mshape\u001b[0m\u001b[0;34m[\u001b[0m\u001b[0;36m0\u001b[0m\u001b[0;34m]\u001b[0m\u001b[0;34m\u001b[0m\u001b[0;34m\u001b[0m\u001b[0m\n\u001b[1;32m   2143\u001b[0m         \u001b[0mpred\u001b[0m \u001b[0;34m=\u001b[0m \u001b[0mpred\u001b[0m\u001b[0;34m.\u001b[0m\u001b[0mreshape\u001b[0m\u001b[0;34m(\u001b[0m\u001b[0;34m(\u001b[0m\u001b[0mncmpds\u001b[0m\u001b[0;34m,\u001b[0m\u001b[0;36m1\u001b[0m\u001b[0;34m,\u001b[0m\u001b[0;34m-\u001b[0m\u001b[0;36m1\u001b[0m\u001b[0;34m)\u001b[0m\u001b[0;34m)\u001b[0m\u001b[0;34m\u001b[0m\u001b[0;34m\u001b[0m\u001b[0m\n",
      "\u001b[0;32m~/ws/AMPL_PR_env/lib/python3.7/site-packages/deepchem/models/sklearn_models/sklearn_model.py\u001b[0m in \u001b[0;36mpredict\u001b[0;34m(self, X, transformers)\u001b[0m\n\u001b[1;32m    132\u001b[0m       \u001b[0;32mis\u001b[0m \u001b[0mpassed\u001b[0m \u001b[0mthrough\u001b[0m \u001b[0mthese\u001b[0m \u001b[0mtransformers\u001b[0m \u001b[0mto\u001b[0m \u001b[0mundo\u001b[0m \u001b[0mthe\u001b[0m \u001b[0mtransformations\u001b[0m\u001b[0;34m.\u001b[0m\u001b[0;34m\u001b[0m\u001b[0;34m\u001b[0m\u001b[0m\n\u001b[1;32m    133\u001b[0m     \"\"\"\n\u001b[0;32m--> 134\u001b[0;31m     \u001b[0;32mreturn\u001b[0m \u001b[0msuper\u001b[0m\u001b[0;34m(\u001b[0m\u001b[0mSklearnModel\u001b[0m\u001b[0;34m,\u001b[0m \u001b[0mself\u001b[0m\u001b[0;34m)\u001b[0m\u001b[0;34m.\u001b[0m\u001b[0mpredict\u001b[0m\u001b[0;34m(\u001b[0m\u001b[0mX\u001b[0m\u001b[0;34m,\u001b[0m \u001b[0mtransformers\u001b[0m\u001b[0;34m)\u001b[0m\u001b[0;34m\u001b[0m\u001b[0;34m\u001b[0m\u001b[0m\n\u001b[0m\u001b[1;32m    135\u001b[0m \u001b[0;34m\u001b[0m\u001b[0m\n\u001b[1;32m    136\u001b[0m   \u001b[0;32mdef\u001b[0m \u001b[0msave\u001b[0m\u001b[0;34m(\u001b[0m\u001b[0mself\u001b[0m\u001b[0;34m)\u001b[0m\u001b[0;34m:\u001b[0m\u001b[0;34m\u001b[0m\u001b[0;34m\u001b[0m\u001b[0m\n",
      "\u001b[0;32m~/ws/AMPL_PR_env/lib/python3.7/site-packages/deepchem/models/models.py\u001b[0m in \u001b[0;36mpredict\u001b[0;34m(self, dataset, transformers)\u001b[0m\n\u001b[1;32m    149\u001b[0m     \u001b[0;32mfor\u001b[0m \u001b[0;34m(\u001b[0m\u001b[0mX_batch\u001b[0m\u001b[0;34m,\u001b[0m \u001b[0m_\u001b[0m\u001b[0;34m,\u001b[0m \u001b[0m_\u001b[0m\u001b[0;34m,\u001b[0m \u001b[0mids_batch\u001b[0m\u001b[0;34m)\u001b[0m \u001b[0;32min\u001b[0m \u001b[0mdataset\u001b[0m\u001b[0;34m.\u001b[0m\u001b[0miterbatches\u001b[0m\u001b[0;34m(\u001b[0m\u001b[0mdeterministic\u001b[0m\u001b[0;34m=\u001b[0m\u001b[0;32mTrue\u001b[0m\u001b[0;34m)\u001b[0m\u001b[0;34m:\u001b[0m\u001b[0;34m\u001b[0m\u001b[0;34m\u001b[0m\u001b[0m\n\u001b[1;32m    150\u001b[0m       \u001b[0mn_samples\u001b[0m \u001b[0;34m=\u001b[0m \u001b[0mlen\u001b[0m\u001b[0;34m(\u001b[0m\u001b[0mX_batch\u001b[0m\u001b[0;34m)\u001b[0m\u001b[0;34m\u001b[0m\u001b[0;34m\u001b[0m\u001b[0m\n\u001b[0;32m--> 151\u001b[0;31m       \u001b[0my_pred_batch\u001b[0m \u001b[0;34m=\u001b[0m \u001b[0mself\u001b[0m\u001b[0;34m.\u001b[0m\u001b[0mpredict_on_batch\u001b[0m\u001b[0;34m(\u001b[0m\u001b[0mX_batch\u001b[0m\u001b[0;34m)\u001b[0m\u001b[0;34m\u001b[0m\u001b[0;34m\u001b[0m\u001b[0m\n\u001b[0m\u001b[1;32m    152\u001b[0m       \u001b[0;31m# Discard any padded predictions\u001b[0m\u001b[0;34m\u001b[0m\u001b[0;34m\u001b[0m\u001b[0;34m\u001b[0m\u001b[0m\n\u001b[1;32m    153\u001b[0m       \u001b[0my_pred_batch\u001b[0m \u001b[0;34m=\u001b[0m \u001b[0my_pred_batch\u001b[0m\u001b[0;34m[\u001b[0m\u001b[0;34m:\u001b[0m\u001b[0mn_samples\u001b[0m\u001b[0;34m]\u001b[0m\u001b[0;34m\u001b[0m\u001b[0;34m\u001b[0m\u001b[0m\n",
      "\u001b[0;32m~/ws/AMPL_PR_env/lib/python3.7/site-packages/deepchem/models/sklearn_models/sklearn_model.py\u001b[0m in \u001b[0;36mpredict_on_batch\u001b[0;34m(self, X)\u001b[0m\n\u001b[1;32m    118\u001b[0m       \u001b[0;32mreturn\u001b[0m \u001b[0mself\u001b[0m\u001b[0;34m.\u001b[0m\u001b[0mmodel\u001b[0m\u001b[0;34m.\u001b[0m\u001b[0mpredict_proba\u001b[0m\u001b[0;34m(\u001b[0m\u001b[0mX\u001b[0m\u001b[0;34m)\u001b[0m\u001b[0;34m\u001b[0m\u001b[0;34m\u001b[0m\u001b[0m\n\u001b[1;32m    119\u001b[0m     \u001b[0;32mexcept\u001b[0m \u001b[0mAttributeError\u001b[0m\u001b[0;34m:\u001b[0m\u001b[0;34m\u001b[0m\u001b[0;34m\u001b[0m\u001b[0m\n\u001b[0;32m--> 120\u001b[0;31m       \u001b[0;32mreturn\u001b[0m \u001b[0mself\u001b[0m\u001b[0;34m.\u001b[0m\u001b[0mmodel\u001b[0m\u001b[0;34m.\u001b[0m\u001b[0mpredict\u001b[0m\u001b[0;34m(\u001b[0m\u001b[0mX\u001b[0m\u001b[0;34m)\u001b[0m\u001b[0;34m\u001b[0m\u001b[0;34m\u001b[0m\u001b[0m\n\u001b[0m\u001b[1;32m    121\u001b[0m \u001b[0;34m\u001b[0m\u001b[0m\n\u001b[1;32m    122\u001b[0m   def predict(self, X: Dataset,\n",
      "\u001b[0;32m~/ws/AMPL_PR_env/lib/python3.7/site-packages/sklearn/ensemble/_forest.py\u001b[0m in \u001b[0;36mpredict\u001b[0;34m(self, X)\u001b[0m\n\u001b[1;32m    782\u001b[0m         \u001b[0mcheck_is_fitted\u001b[0m\u001b[0;34m(\u001b[0m\u001b[0mself\u001b[0m\u001b[0;34m)\u001b[0m\u001b[0;34m\u001b[0m\u001b[0;34m\u001b[0m\u001b[0m\n\u001b[1;32m    783\u001b[0m         \u001b[0;31m# Check data\u001b[0m\u001b[0;34m\u001b[0m\u001b[0;34m\u001b[0m\u001b[0;34m\u001b[0m\u001b[0m\n\u001b[0;32m--> 784\u001b[0;31m         \u001b[0mX\u001b[0m \u001b[0;34m=\u001b[0m \u001b[0mself\u001b[0m\u001b[0;34m.\u001b[0m\u001b[0m_validate_X_predict\u001b[0m\u001b[0;34m(\u001b[0m\u001b[0mX\u001b[0m\u001b[0;34m)\u001b[0m\u001b[0;34m\u001b[0m\u001b[0;34m\u001b[0m\u001b[0m\n\u001b[0m\u001b[1;32m    785\u001b[0m \u001b[0;34m\u001b[0m\u001b[0m\n\u001b[1;32m    786\u001b[0m         \u001b[0;31m# Assign chunk of trees to jobs\u001b[0m\u001b[0;34m\u001b[0m\u001b[0;34m\u001b[0m\u001b[0;34m\u001b[0m\u001b[0m\n",
      "\u001b[0;32m~/ws/AMPL_PR_env/lib/python3.7/site-packages/sklearn/ensemble/_forest.py\u001b[0m in \u001b[0;36m_validate_X_predict\u001b[0;34m(self, X)\u001b[0m\n\u001b[1;32m    420\u001b[0m         \u001b[0mcheck_is_fitted\u001b[0m\u001b[0;34m(\u001b[0m\u001b[0mself\u001b[0m\u001b[0;34m)\u001b[0m\u001b[0;34m\u001b[0m\u001b[0;34m\u001b[0m\u001b[0m\n\u001b[1;32m    421\u001b[0m \u001b[0;34m\u001b[0m\u001b[0m\n\u001b[0;32m--> 422\u001b[0;31m         \u001b[0;32mreturn\u001b[0m \u001b[0mself\u001b[0m\u001b[0;34m.\u001b[0m\u001b[0mestimators_\u001b[0m\u001b[0;34m[\u001b[0m\u001b[0;36m0\u001b[0m\u001b[0;34m]\u001b[0m\u001b[0;34m.\u001b[0m\u001b[0m_validate_X_predict\u001b[0m\u001b[0;34m(\u001b[0m\u001b[0mX\u001b[0m\u001b[0;34m,\u001b[0m \u001b[0mcheck_input\u001b[0m\u001b[0;34m=\u001b[0m\u001b[0;32mTrue\u001b[0m\u001b[0;34m)\u001b[0m\u001b[0;34m\u001b[0m\u001b[0;34m\u001b[0m\u001b[0m\n\u001b[0m\u001b[1;32m    423\u001b[0m \u001b[0;34m\u001b[0m\u001b[0m\n\u001b[1;32m    424\u001b[0m     \u001b[0;34m@\u001b[0m\u001b[0mproperty\u001b[0m\u001b[0;34m\u001b[0m\u001b[0;34m\u001b[0m\u001b[0m\n",
      "\u001b[0;32m~/ws/AMPL_PR_env/lib/python3.7/site-packages/sklearn/tree/_classes.py\u001b[0m in \u001b[0;36m_validate_X_predict\u001b[0;34m(self, X, check_input)\u001b[0m\n\u001b[1;32m    406\u001b[0m         \u001b[0;32mif\u001b[0m \u001b[0mcheck_input\u001b[0m\u001b[0;34m:\u001b[0m\u001b[0;34m\u001b[0m\u001b[0;34m\u001b[0m\u001b[0m\n\u001b[1;32m    407\u001b[0m             X = self._validate_data(X, dtype=DTYPE, accept_sparse=\"csr\",\n\u001b[0;32m--> 408\u001b[0;31m                                     reset=False)\n\u001b[0m\u001b[1;32m    409\u001b[0m             if issparse(X) and (X.indices.dtype != np.intc or\n\u001b[1;32m    410\u001b[0m                                 X.indptr.dtype != np.intc):\n",
      "\u001b[0;32m~/ws/AMPL_PR_env/lib/python3.7/site-packages/sklearn/base.py\u001b[0m in \u001b[0;36m_validate_data\u001b[0;34m(self, X, y, reset, validate_separately, **check_params)\u001b[0m\n\u001b[1;32m    419\u001b[0m             \u001b[0mout\u001b[0m \u001b[0;34m=\u001b[0m \u001b[0mX\u001b[0m\u001b[0;34m\u001b[0m\u001b[0;34m\u001b[0m\u001b[0m\n\u001b[1;32m    420\u001b[0m         \u001b[0;32melif\u001b[0m \u001b[0misinstance\u001b[0m\u001b[0;34m(\u001b[0m\u001b[0my\u001b[0m\u001b[0;34m,\u001b[0m \u001b[0mstr\u001b[0m\u001b[0;34m)\u001b[0m \u001b[0;32mand\u001b[0m \u001b[0my\u001b[0m \u001b[0;34m==\u001b[0m \u001b[0;34m'no_validation'\u001b[0m\u001b[0;34m:\u001b[0m\u001b[0;34m\u001b[0m\u001b[0;34m\u001b[0m\u001b[0m\n\u001b[0;32m--> 421\u001b[0;31m             \u001b[0mX\u001b[0m \u001b[0;34m=\u001b[0m \u001b[0mcheck_array\u001b[0m\u001b[0;34m(\u001b[0m\u001b[0mX\u001b[0m\u001b[0;34m,\u001b[0m \u001b[0;34m**\u001b[0m\u001b[0mcheck_params\u001b[0m\u001b[0;34m)\u001b[0m\u001b[0;34m\u001b[0m\u001b[0;34m\u001b[0m\u001b[0m\n\u001b[0m\u001b[1;32m    422\u001b[0m             \u001b[0mout\u001b[0m \u001b[0;34m=\u001b[0m \u001b[0mX\u001b[0m\u001b[0;34m\u001b[0m\u001b[0;34m\u001b[0m\u001b[0m\n\u001b[1;32m    423\u001b[0m         \u001b[0;32melse\u001b[0m\u001b[0;34m:\u001b[0m\u001b[0;34m\u001b[0m\u001b[0;34m\u001b[0m\u001b[0m\n",
      "\u001b[0;32m~/ws/AMPL_PR_env/lib/python3.7/site-packages/sklearn/utils/validation.py\u001b[0m in \u001b[0;36minner_f\u001b[0;34m(*args, **kwargs)\u001b[0m\n\u001b[1;32m     61\u001b[0m             \u001b[0mextra_args\u001b[0m \u001b[0;34m=\u001b[0m \u001b[0mlen\u001b[0m\u001b[0;34m(\u001b[0m\u001b[0margs\u001b[0m\u001b[0;34m)\u001b[0m \u001b[0;34m-\u001b[0m \u001b[0mlen\u001b[0m\u001b[0;34m(\u001b[0m\u001b[0mall_args\u001b[0m\u001b[0;34m)\u001b[0m\u001b[0;34m\u001b[0m\u001b[0;34m\u001b[0m\u001b[0m\n\u001b[1;32m     62\u001b[0m             \u001b[0;32mif\u001b[0m \u001b[0mextra_args\u001b[0m \u001b[0;34m<=\u001b[0m \u001b[0;36m0\u001b[0m\u001b[0;34m:\u001b[0m\u001b[0;34m\u001b[0m\u001b[0;34m\u001b[0m\u001b[0m\n\u001b[0;32m---> 63\u001b[0;31m                 \u001b[0;32mreturn\u001b[0m \u001b[0mf\u001b[0m\u001b[0;34m(\u001b[0m\u001b[0;34m*\u001b[0m\u001b[0margs\u001b[0m\u001b[0;34m,\u001b[0m \u001b[0;34m**\u001b[0m\u001b[0mkwargs\u001b[0m\u001b[0;34m)\u001b[0m\u001b[0;34m\u001b[0m\u001b[0;34m\u001b[0m\u001b[0m\n\u001b[0m\u001b[1;32m     64\u001b[0m \u001b[0;34m\u001b[0m\u001b[0m\n\u001b[1;32m     65\u001b[0m             \u001b[0;31m# extra_args > 0\u001b[0m\u001b[0;34m\u001b[0m\u001b[0;34m\u001b[0m\u001b[0;34m\u001b[0m\u001b[0m\n",
      "\u001b[0;32m~/ws/AMPL_PR_env/lib/python3.7/site-packages/sklearn/utils/validation.py\u001b[0m in \u001b[0;36mcheck_array\u001b[0;34m(array, accept_sparse, accept_large_sparse, dtype, order, copy, force_all_finite, ensure_2d, allow_nd, ensure_min_samples, ensure_min_features, estimator)\u001b[0m\n\u001b[1;32m    719\u001b[0m         \u001b[0;32mif\u001b[0m \u001b[0mforce_all_finite\u001b[0m\u001b[0;34m:\u001b[0m\u001b[0;34m\u001b[0m\u001b[0;34m\u001b[0m\u001b[0m\n\u001b[1;32m    720\u001b[0m             _assert_all_finite(array,\n\u001b[0;32m--> 721\u001b[0;31m                                allow_nan=force_all_finite == 'allow-nan')\n\u001b[0m\u001b[1;32m    722\u001b[0m \u001b[0;34m\u001b[0m\u001b[0m\n\u001b[1;32m    723\u001b[0m     \u001b[0;32mif\u001b[0m \u001b[0mensure_min_samples\u001b[0m \u001b[0;34m>\u001b[0m \u001b[0;36m0\u001b[0m\u001b[0;34m:\u001b[0m\u001b[0;34m\u001b[0m\u001b[0;34m\u001b[0m\u001b[0m\n",
      "\u001b[0;32m~/ws/AMPL_PR_env/lib/python3.7/site-packages/sklearn/utils/validation.py\u001b[0m in \u001b[0;36m_assert_all_finite\u001b[0;34m(X, allow_nan, msg_dtype)\u001b[0m\n\u001b[1;32m    104\u001b[0m                     \u001b[0mmsg_err\u001b[0m\u001b[0;34m.\u001b[0m\u001b[0mformat\u001b[0m\u001b[0;34m\u001b[0m\u001b[0;34m\u001b[0m\u001b[0m\n\u001b[1;32m    105\u001b[0m                     (type_err,\n\u001b[0;32m--> 106\u001b[0;31m                      msg_dtype if msg_dtype is not None else X.dtype)\n\u001b[0m\u001b[1;32m    107\u001b[0m             )\n\u001b[1;32m    108\u001b[0m     \u001b[0;31m# for object dtype data, we only check for NaNs (GH-13254)\u001b[0m\u001b[0;34m\u001b[0m\u001b[0;34m\u001b[0m\u001b[0;34m\u001b[0m\u001b[0m\n",
      "\u001b[0;31mValueError\u001b[0m: Input contains NaN, infinity or a value too large for dtype('float32')."
     ]
    }
   ],
   "source": [
    "df=pd.read_csv(\"/usr/workspace/atom/PARP_compounds/Model_Predictions/TargetMol/targetmol.csv\")\n",
    "\n",
    "# df=df[df.MolWt<2000]\n",
    "\n",
    "smiles=df.base_rdkit_smiles.tolist()\n",
    "for modpath, modtype, feattype, extdata in models:\n",
    "    print('\\n', modtype, '\\n')\n",
    "    model_path = modpath\n",
    "    if feattype != 'ecfp':\n",
    "        feat_data_path = f\"/usr/workspace//atom/PARP_compounds/Model_Predictions/TargetMol/scaled_descriptors/targetmol_with_{feattype}_descriptors.csv\"\n",
    "        feat_data = pd.read_csv(feat_data_path)\n",
    "        feat_data = feat_data[feat_data.base_rdkit_smiles.isin(smiles)]\n",
    "        is_featurized=True\n",
    "    else:\n",
    "        feat_data=df\n",
    "        is_featurized=False\n",
    "    input_df = feat_data\n",
    "    if modtype=='logBB':\n",
    "        id_col='Name'\n",
    "        input_df=input_df.rename(columns={'compound_id':'Name'})\n",
    "    elif modtype in ['PARP1_Ki', 'PARP1_XC50']:\n",
    "        id_col='new_compound_id'\n",
    "        input_df=input_df.rename(columns={'compound_id':'new_compound_id'})\n",
    "    else:\n",
    "        id_col = 'compound_id'\n",
    "    smiles_col = 'base_rdkit_smiles'\n",
    "    response_col = None\n",
    "    dont_standardize = True\n",
    "    AD_method = 'z_score'\n",
    "\n",
    "    pred_df = pfm.predict_from_model_file(model_path = model_path, input_df=input_df,\n",
    "                                          id_col=id_col, smiles_col=smiles_col, response_col=response_col,\n",
    "                                dont_standardize=dont_standardize, is_featurized = is_featurized,\n",
    "                                          AD_method=AD_method, external_training_data=extdata,\n",
    "                                          # turn verbose on\n",
    "                                          verbose=True\n",
    "                                )\n",
    "\n",
    "    pred_df.to_csv(f\"./targetmol_pred_{modtype}.csv\", index=False)"
   ]
  },
  {
   "cell_type": "code",
   "execution_count": null,
   "metadata": {},
   "outputs": [],
   "source": []
  }
 ],
 "metadata": {
  "kernelspec": {
   "display_name": "AMPL_PR",
   "language": "python",
   "name": "ampl_pr"
  },
  "language_info": {
   "codemirror_mode": {
    "name": "ipython",
    "version": 3
   },
   "file_extension": ".py",
   "mimetype": "text/x-python",
   "name": "python",
   "nbconvert_exporter": "python",
   "pygments_lexer": "ipython3",
   "version": "3.7.10"
  }
 },
 "nbformat": 4,
 "nbformat_minor": 4
}
